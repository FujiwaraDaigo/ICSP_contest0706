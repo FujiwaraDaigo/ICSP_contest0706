{
 "cells": [
  {
   "cell_type": "markdown",
   "metadata": {},
   "source": [
    "# ICSP Contest 0706\n",
    "## 藤原　大悟"
   ]
  },
  {
   "cell_type": "code",
   "execution_count": 1,
   "metadata": {},
   "outputs": [],
   "source": [
    "import matplotlib.pyplot as plt\n",
    "\n",
    "import warnings\n",
    "warnings.simplefilter(action='ignore', category=FutureWarning)\n",
    "from scipy  import stats\n",
    "\n",
    "from sklearn.decomposition import PCA\n",
    "import seaborn as sns\n",
    "import pandas as pd\n",
    "\n",
    "import cv2\n",
    "import glob\n",
    "\n",
    "import numpy as np"
   ]
  },
  {
   "cell_type": "code",
   "execution_count": 2,
   "metadata": {},
   "outputs": [],
   "source": [
    "def return_frame(video_path, frame_num):\n",
    "    cap = cv2.VideoCapture(video_path)\n",
    "\n",
    "    if not cap.isOpened():\n",
    "        print(\"movie roding error !\")\n",
    "\n",
    "    cap.set(cv2.CAP_PROP_POS_FRAMES, frame_num)#パラメータCAP_PROP_POS_FRAMESにframe_numを指定\n",
    "\n",
    "    ret, frame = cap.read() #frame_num番目の画像を取得\n",
    "\n",
    "    if not ret :\n",
    "        print(\"movie roding error !\")\n",
    "\n",
    "    return frame"
   ]
  },
  {
   "cell_type": "code",
   "execution_count": 3,
   "metadata": {},
   "outputs": [],
   "source": [
    "def get_dir_content(dir_name):\n",
    "    load=glob.glob(dir_name)\n",
    "    content_num=len(load)\n",
    "    return load,content_num"
   ]
  },
  {
   "cell_type": "code",
   "execution_count": 4,
   "metadata": {},
   "outputs": [],
   "source": [
    "movie_path=\"/Users/daigofujiwara/Documents/ICSP/ICSP_contest0706/movies/*\"\n",
    "csv_path=\"/Users/daigofujiwara/Documents/ICSP/ICSP_contest0706/csv/*\"\n",
    "\n",
    "movie,N=get_dir_content(movie_path)\n",
    "csv,M=get_dir_content(csv_path)"
   ]
  },
  {
   "cell_type": "code",
   "execution_count": 5,
   "metadata": {},
   "outputs": [
    {
     "name": "stdout",
     "output_type": "stream",
     "text": [
      "(54, 6915)\n"
     ]
    },
    {
     "data": {
      "text/html": [
       "<div>\n",
       "<style scoped>\n",
       "    .dataframe tbody tr th:only-of-type {\n",
       "        vertical-align: middle;\n",
       "    }\n",
       "\n",
       "    .dataframe tbody tr th {\n",
       "        vertical-align: top;\n",
       "    }\n",
       "\n",
       "    .dataframe thead th {\n",
       "        text-align: right;\n",
       "    }\n",
       "</style>\n",
       "<table border=\"1\" class=\"dataframe\">\n",
       "  <thead>\n",
       "    <tr style=\"text-align: right;\">\n",
       "      <th></th>\n",
       "      <th>Time</th>\n",
       "      <th>Frame</th>\n",
       "      <th>baseFrame</th>\n",
       "      <th>Mesh No.</th>\n",
       "      <th>v</th>\n",
       "      <th>h</th>\n",
       "      <th>Invalid</th>\n",
       "      <th>Coefficient</th>\n",
       "      <th>Move x</th>\n",
       "      <th>Move y</th>\n",
       "      <th>...</th>\n",
       "      <th>h.575</th>\n",
       "      <th>Invalid.575</th>\n",
       "      <th>Coefficient.575</th>\n",
       "      <th>Move x.575</th>\n",
       "      <th>Move y.575</th>\n",
       "      <th>Difference.575</th>\n",
       "      <th>DifferenceAdj.575</th>\n",
       "      <th>NOverPixels.575</th>\n",
       "      <th>LMSN.575</th>\n",
       "      <th>Result.575</th>\n",
       "    </tr>\n",
       "  </thead>\n",
       "  <tbody>\n",
       "    <tr>\n",
       "      <th>0</th>\n",
       "      <td>1561034734238</td>\n",
       "      <td>3</td>\n",
       "      <td>2</td>\n",
       "      <td>0</td>\n",
       "      <td>0</td>\n",
       "      <td>0</td>\n",
       "      <td>0</td>\n",
       "      <td>1.0</td>\n",
       "      <td>0</td>\n",
       "      <td>0</td>\n",
       "      <td>...</td>\n",
       "      <td>31</td>\n",
       "      <td>0</td>\n",
       "      <td>1.0</td>\n",
       "      <td>0</td>\n",
       "      <td>0</td>\n",
       "      <td>1.75</td>\n",
       "      <td>0.30</td>\n",
       "      <td>8</td>\n",
       "      <td>N</td>\n",
       "      <td>0</td>\n",
       "    </tr>\n",
       "    <tr>\n",
       "      <th>1</th>\n",
       "      <td>1561034734250</td>\n",
       "      <td>4</td>\n",
       "      <td>3</td>\n",
       "      <td>0</td>\n",
       "      <td>0</td>\n",
       "      <td>0</td>\n",
       "      <td>0</td>\n",
       "      <td>1.0</td>\n",
       "      <td>0</td>\n",
       "      <td>0</td>\n",
       "      <td>...</td>\n",
       "      <td>31</td>\n",
       "      <td>0</td>\n",
       "      <td>1.0</td>\n",
       "      <td>0</td>\n",
       "      <td>0</td>\n",
       "      <td>0.00</td>\n",
       "      <td>0.00</td>\n",
       "      <td>0</td>\n",
       "      <td>N</td>\n",
       "      <td>0</td>\n",
       "    </tr>\n",
       "    <tr>\n",
       "      <th>2</th>\n",
       "      <td>1561034734260</td>\n",
       "      <td>5</td>\n",
       "      <td>4</td>\n",
       "      <td>0</td>\n",
       "      <td>0</td>\n",
       "      <td>0</td>\n",
       "      <td>0</td>\n",
       "      <td>1.0</td>\n",
       "      <td>0</td>\n",
       "      <td>0</td>\n",
       "      <td>...</td>\n",
       "      <td>31</td>\n",
       "      <td>0</td>\n",
       "      <td>1.0</td>\n",
       "      <td>0</td>\n",
       "      <td>0</td>\n",
       "      <td>0.00</td>\n",
       "      <td>0.00</td>\n",
       "      <td>0</td>\n",
       "      <td>N</td>\n",
       "      <td>0</td>\n",
       "    </tr>\n",
       "    <tr>\n",
       "      <th>3</th>\n",
       "      <td>1561034734271</td>\n",
       "      <td>6</td>\n",
       "      <td>5</td>\n",
       "      <td>0</td>\n",
       "      <td>0</td>\n",
       "      <td>0</td>\n",
       "      <td>0</td>\n",
       "      <td>1.0</td>\n",
       "      <td>0</td>\n",
       "      <td>0</td>\n",
       "      <td>...</td>\n",
       "      <td>31</td>\n",
       "      <td>0</td>\n",
       "      <td>1.0</td>\n",
       "      <td>0</td>\n",
       "      <td>0</td>\n",
       "      <td>0.00</td>\n",
       "      <td>0.00</td>\n",
       "      <td>0</td>\n",
       "      <td>N</td>\n",
       "      <td>0</td>\n",
       "    </tr>\n",
       "    <tr>\n",
       "      <th>4</th>\n",
       "      <td>1561034734282</td>\n",
       "      <td>7</td>\n",
       "      <td>6</td>\n",
       "      <td>0</td>\n",
       "      <td>0</td>\n",
       "      <td>0</td>\n",
       "      <td>0</td>\n",
       "      <td>1.0</td>\n",
       "      <td>0</td>\n",
       "      <td>0</td>\n",
       "      <td>...</td>\n",
       "      <td>31</td>\n",
       "      <td>0</td>\n",
       "      <td>1.0</td>\n",
       "      <td>0</td>\n",
       "      <td>0</td>\n",
       "      <td>1.49</td>\n",
       "      <td>0.26</td>\n",
       "      <td>6</td>\n",
       "      <td>N</td>\n",
       "      <td>0</td>\n",
       "    </tr>\n",
       "  </tbody>\n",
       "</table>\n",
       "<p>5 rows × 6915 columns</p>\n",
       "</div>"
      ],
      "text/plain": [
       "            Time   Frame   baseFrame  Mesh No.  v  h  Invalid  Coefficient  \\\n",
       "0  1561034734238       3           2         0  0  0        0          1.0   \n",
       "1  1561034734250       4           3         0  0  0        0          1.0   \n",
       "2  1561034734260       5           4         0  0  0        0          1.0   \n",
       "3  1561034734271       6           5         0  0  0        0          1.0   \n",
       "4  1561034734282       7           6         0  0  0        0          1.0   \n",
       "\n",
       "   Move x  Move y  ...  h.575  Invalid.575  Coefficient.575 Move x.575  \\\n",
       "0       0       0  ...     31            0              1.0          0   \n",
       "1       0       0  ...     31            0              1.0          0   \n",
       "2       0       0  ...     31            0              1.0          0   \n",
       "3       0       0  ...     31            0              1.0          0   \n",
       "4       0       0  ...     31            0              1.0          0   \n",
       "\n",
       "   Move y.575  Difference.575  DifferenceAdj.575  NOverPixels.575  LMSN.575  \\\n",
       "0           0            1.75               0.30                8         N   \n",
       "1           0            0.00               0.00                0         N   \n",
       "2           0            0.00               0.00                0         N   \n",
       "3           0            0.00               0.00                0         N   \n",
       "4           0            1.49               0.26                6         N   \n",
       "\n",
       "   Result.575  \n",
       "0           0  \n",
       "1           0  \n",
       "2           0  \n",
       "3           0  \n",
       "4           0  \n",
       "\n",
       "[5 rows x 6915 columns]"
      ]
     },
     "execution_count": 5,
     "metadata": {},
     "output_type": "execute_result"
    }
   ],
   "source": [
    "df=[]\n",
    "\n",
    "for i in range(M):\n",
    "    df.append(pd.read_csv(csv[i],header=0,sep=','))\n",
    "\n",
    "print(df[0].shape)\n",
    "df[0].head()"
   ]
  },
  {
   "cell_type": "code",
   "execution_count": 6,
   "metadata": {},
   "outputs": [],
   "source": [
    "frame0=return_frame(movie[0],0)\n",
    "\n",
    "np.shape(frame0)\n",
    "\n",
    "#cv2.imshow('frame0',frame0)\n",
    "#cv2.waitKey(1000)\n",
    "#cv2.destroyAllWindows()"
   ]
  },
  {
   "cell_type": "code",
   "execution_count": 7,
   "metadata": {},
   "outputs": [
    {
     "data": {
      "text/plain": [
       "True"
      ]
     },
     "execution_count": 7,
     "metadata": {},
     "output_type": "execute_result"
    }
   ],
   "source": [
    "cv2.imwrite('/Users/daigofujiwara/Documents/ICSP/ICSP_contest0706/frame0s/frame0.jpg', frame0)"
   ]
  },
  {
   "cell_type": "markdown",
   "metadata": {},
   "source": [
    "<img src=\"../frame0/frame0.jpg\">"
   ]
  },
  {
   "cell_type": "code",
   "execution_count": 8,
   "metadata": {},
   "outputs": [],
   "source": [
    "cv2.destroyAllWindows()"
   ]
  },
  {
   "cell_type": "code",
   "execution_count": null,
   "metadata": {},
   "outputs": [],
   "source": []
  }
 ],
 "metadata": {
  "kernelspec": {
   "display_name": "Python 3",
   "language": "python",
   "name": "python3"
  },
  "language_info": {
   "codemirror_mode": {
    "name": "ipython",
    "version": 3
   },
   "file_extension": ".py",
   "mimetype": "text/x-python",
   "name": "python",
   "nbconvert_exporter": "python",
   "pygments_lexer": "ipython3",
   "version": "3.7.3"
  }
 },
 "nbformat": 4,
 "nbformat_minor": 2
}
